{
 "cells": [
  {
   "cell_type": "code",
   "execution_count": 13,
   "metadata": {},
   "outputs": [],
   "source": [
    "import math"
   ]
  },
  {
   "cell_type": "code",
   "execution_count": null,
   "metadata": {},
   "outputs": [],
   "source": [
    "##FUNCTIONS"
   ]
  },
  {
   "cell_type": "code",
   "execution_count": 1,
   "metadata": {},
   "outputs": [
    {
     "data": {
      "text/plain": [
       "8"
      ]
     },
     "execution_count": 1,
     "metadata": {},
     "output_type": "execute_result"
    }
   ],
   "source": [
    "def PerformOperation(num1,  num2, operation):\n",
    "    if operation == 'sum':\n",
    "        return num1 + num2\n",
    "    if operation == 'multiply':\n",
    "        return num1 * num2\n",
    "    \n",
    "PerformOperation(5,3, 'sum')\n"
   ]
  },
  {
   "cell_type": "code",
   "execution_count": 4,
   "metadata": {},
   "outputs": [
    {
     "name": "stdout",
     "output_type": "stream",
     "text": [
      "(1, 2, 3, 4)\n"
     ]
    }
   ],
   "source": [
    "def performOperation(*args):\n",
    "    print(args)\n",
    "\n",
    "performOperation(1,2,3,4)"
   ]
  },
  {
   "cell_type": "code",
   "execution_count": 8,
   "metadata": {},
   "outputs": [
    {
     "name": "stdout",
     "output_type": "stream",
     "text": [
      "(1, 2, 3)\n",
      "{'operation': 'sum'}\n"
     ]
    }
   ],
   "source": [
    "def PerformOperation(*args,**kwargs):\n",
    "    print(args)\n",
    "    print(kwargs)\n",
    "\n",
    "PerformOperation(1,2,3, operation = 'sum')"
   ]
  },
  {
   "cell_type": "code",
   "execution_count": 15,
   "metadata": {},
   "outputs": [
    {
     "data": {
      "text/plain": [
       "27"
      ]
     },
     "execution_count": 15,
     "metadata": {},
     "output_type": "execute_result"
    }
   ],
   "source": [
    "def PerformOperation(*args, operation='sum'):\n",
    "    if operation == 'sum':\n",
    "        return sum(args)\n",
    "    if operation == 'multiply':\n",
    "        return math.prod(args)\n",
    "    \n",
    "PerformOperation(1,2,3,6,7,8, operation='sum')\n"
   ]
  },
  {
   "cell_type": "code",
   "execution_count": null,
   "metadata": {},
   "outputs": [],
   "source": [
    "##LOCALS"
   ]
  },
  {
   "cell_type": "code",
   "execution_count": 17,
   "metadata": {},
   "outputs": [
    {
     "name": "stdout",
     "output_type": "stream",
     "text": [
      "{'num1': 1, 'num2': 2, 'operation': 'multiply'}\n"
     ]
    }
   ],
   "source": [
    "def performOperation(num1, num2, operation = 'sum'):\n",
    "    print(locals())\n",
    "\n",
    "performOperation(1,2,operation='multiply')\n",
    "\n"
   ]
  },
  {
   "cell_type": "code",
   "execution_count": 18,
   "metadata": {},
   "outputs": [
    {
     "data": {
      "text/plain": [
       "{'__name__': '__main__',\n",
       " '__doc__': 'Automatically created module for IPython interactive environment',\n",
       " '__package__': None,\n",
       " '__loader__': None,\n",
       " '__spec__': None,\n",
       " '__builtin__': <module 'builtins' (built-in)>,\n",
       " '__builtins__': <module 'builtins' (built-in)>,\n",
       " '_ih': ['',\n",
       "  \"def PerformOperation(num1,  num2, operation):\\n    if operation == 'sum':\\n        return num1 + num2\\n    if operation == 'multiply':\\n        return num1 * num2\\n    \\nPerformOperation(5,3, 'sum')\",\n",
       "  'def performOperation(*args):\\n    print(args)\\n\\nperformOperation(1,2,3)',\n",
       "  'performOperation(1,2,3, operation = \"sum\")',\n",
       "  'def performOperation(*args):\\n    print(args)\\n\\nperformOperation(1,2,3,4)',\n",
       "  'def PerformOperation(*args,**kwargs):\\n    print(args)\\n    print(kwargs)\\n\\nperformOperation(1,2,3,4,5,7,8, operation = \"sum\")',\n",
       "  'def PerformOperation(*args,**kwargs):\\n    print(args)\\n    print(kwargs)\\n\\nperformOperation(1,2,3, operation = \"sum\")',\n",
       "  \"def PerformOperation(*args,**kwargs):\\n    print(args)\\n    print(kwargs)\\n\\nperformOperation(1,2,3, operation = 'sum')\",\n",
       "  \"def PerformOperation(*args,**kwargs):\\n    print(args)\\n    print(kwargs)\\n\\nPerformOperation(1,2,3, operation = 'sum')\",\n",
       "  \"def PerformOperation(*args, operation='sum'):\\n    if operation == 'sum':\\n        return sum(args)\\n    if operation == 'multiply':\\n        return math.prod(args)\\n    \\n    PerformOperation(1,2,3,6,7,8, operation='sum')\",\n",
       "  \"def PerformOperation(*args, operation='sum'):\\n    if operation == 'sum':\\n        return sum(args)\\n    if operation == 'multiply':\\n        return math.prod(args)\\n    \\n    PerformOperation(1,2,3,6,7,8, operation='sum')\",\n",
       "  \"def PerformOperation(*args, operation='sum'):\\n    if operation == 'sum':\\n        return sum(args)\\n    if operation == 'multiply':\\n        return math.prod(args)\\n    \\nPerformOperation(1,2,3,6,7,8, operation='sum')\",\n",
       "  \"def PerformOperation(*args, operation='sum'):\\n    if operation == 'sum':\\n        return sum(args)\\n    if operation == 'multiply':\\n        return math.prod(args)\\n    \\nPerformOperation(1,2,3,6,7,8, operation='multiply')\",\n",
       "  'import math',\n",
       "  \"def PerformOperation(*args, operation='sum'):\\n    if operation == 'sum':\\n        return sum(args)\\n    if operation == 'multiply':\\n        return math.prod(args)\\n    \\nPerformOperation(1,2,3,6,7,8, operation='multiply')\",\n",
       "  \"def PerformOperation(*args, operation='sum'):\\n    if operation == 'sum':\\n        return sum(args)\\n    if operation == 'multiply':\\n        return math.prod(args)\\n    \\nPerformOperation(1,2,3,6,7,8, operation='sum')\",\n",
       "  \"def performOperation(num1, num2, operation = 'sum'):\\n    print(locals())\\n\\nperformOperation(1,2,operation='multiply')\\nprint(num1)\",\n",
       "  \"def performOperation(num1, num2, operation = 'sum'):\\n    print(locals())\\n\\nperformOperation(1,2,operation='multiply')\",\n",
       "  'globals()'],\n",
       " '_oh': {1: 8, 11: 27, 14: 2016, 15: 27},\n",
       " '_dh': [WindowsPath('c:/Users/Sibabalo.Njisane/Project/Week 2'),\n",
       "  WindowsPath('c:/Users/Sibabalo.Njisane/Project/Week 2')],\n",
       " 'In': ['',\n",
       "  \"def PerformOperation(num1,  num2, operation):\\n    if operation == 'sum':\\n        return num1 + num2\\n    if operation == 'multiply':\\n        return num1 * num2\\n    \\nPerformOperation(5,3, 'sum')\",\n",
       "  'def performOperation(*args):\\n    print(args)\\n\\nperformOperation(1,2,3)',\n",
       "  'performOperation(1,2,3, operation = \"sum\")',\n",
       "  'def performOperation(*args):\\n    print(args)\\n\\nperformOperation(1,2,3,4)',\n",
       "  'def PerformOperation(*args,**kwargs):\\n    print(args)\\n    print(kwargs)\\n\\nperformOperation(1,2,3,4,5,7,8, operation = \"sum\")',\n",
       "  'def PerformOperation(*args,**kwargs):\\n    print(args)\\n    print(kwargs)\\n\\nperformOperation(1,2,3, operation = \"sum\")',\n",
       "  \"def PerformOperation(*args,**kwargs):\\n    print(args)\\n    print(kwargs)\\n\\nperformOperation(1,2,3, operation = 'sum')\",\n",
       "  \"def PerformOperation(*args,**kwargs):\\n    print(args)\\n    print(kwargs)\\n\\nPerformOperation(1,2,3, operation = 'sum')\",\n",
       "  \"def PerformOperation(*args, operation='sum'):\\n    if operation == 'sum':\\n        return sum(args)\\n    if operation == 'multiply':\\n        return math.prod(args)\\n    \\n    PerformOperation(1,2,3,6,7,8, operation='sum')\",\n",
       "  \"def PerformOperation(*args, operation='sum'):\\n    if operation == 'sum':\\n        return sum(args)\\n    if operation == 'multiply':\\n        return math.prod(args)\\n    \\n    PerformOperation(1,2,3,6,7,8, operation='sum')\",\n",
       "  \"def PerformOperation(*args, operation='sum'):\\n    if operation == 'sum':\\n        return sum(args)\\n    if operation == 'multiply':\\n        return math.prod(args)\\n    \\nPerformOperation(1,2,3,6,7,8, operation='sum')\",\n",
       "  \"def PerformOperation(*args, operation='sum'):\\n    if operation == 'sum':\\n        return sum(args)\\n    if operation == 'multiply':\\n        return math.prod(args)\\n    \\nPerformOperation(1,2,3,6,7,8, operation='multiply')\",\n",
       "  'import math',\n",
       "  \"def PerformOperation(*args, operation='sum'):\\n    if operation == 'sum':\\n        return sum(args)\\n    if operation == 'multiply':\\n        return math.prod(args)\\n    \\nPerformOperation(1,2,3,6,7,8, operation='multiply')\",\n",
       "  \"def PerformOperation(*args, operation='sum'):\\n    if operation == 'sum':\\n        return sum(args)\\n    if operation == 'multiply':\\n        return math.prod(args)\\n    \\nPerformOperation(1,2,3,6,7,8, operation='sum')\",\n",
       "  \"def performOperation(num1, num2, operation = 'sum'):\\n    print(locals())\\n\\nperformOperation(1,2,operation='multiply')\\nprint(num1)\",\n",
       "  \"def performOperation(num1, num2, operation = 'sum'):\\n    print(locals())\\n\\nperformOperation(1,2,operation='multiply')\",\n",
       "  'globals()'],\n",
       " 'Out': {1: 8, 11: 27, 14: 2016, 15: 27},\n",
       " 'get_ipython': <bound method InteractiveShell.get_ipython of <ipykernel.zmqshell.ZMQInteractiveShell object at 0x000002A0198544D0>>,\n",
       " 'exit': <IPython.core.autocall.ZMQExitAutocall at 0x2a0198553d0>,\n",
       " 'quit': <IPython.core.autocall.ZMQExitAutocall at 0x2a0198553d0>,\n",
       " 'open': <function _io.open(file, mode='r', buffering=-1, encoding=None, errors=None, newline=None, closefd=True, opener=None)>,\n",
       " '_': 27,\n",
       " '__': 2016,\n",
       " '___': 27,\n",
       " '__vsc_ipynb_file__': 'c:\\\\Users\\\\Sibabalo.Njisane\\\\Project\\\\Week 2\\\\Functions.ipynb',\n",
       " '_i': \"def performOperation(num1, num2, operation = 'sum'):\\n    print(locals())\\n\\nperformOperation(1,2,operation='multiply')\",\n",
       " '_ii': \"def performOperation(num1, num2, operation = 'sum'):\\n    print(locals())\\n\\nperformOperation(1,2,operation='multiply')\\nprint(num1)\",\n",
       " '_iii': \"def PerformOperation(*args, operation='sum'):\\n    if operation == 'sum':\\n        return sum(args)\\n    if operation == 'multiply':\\n        return math.prod(args)\\n    \\nPerformOperation(1,2,3,6,7,8, operation='sum')\",\n",
       " '_i1': \"def PerformOperation(num1,  num2, operation):\\n    if operation == 'sum':\\n        return num1 + num2\\n    if operation == 'multiply':\\n        return num1 * num2\\n    \\nPerformOperation(5,3, 'sum')\",\n",
       " 'PerformOperation': <function __main__.PerformOperation(*args, operation='sum')>,\n",
       " '_1': 8,\n",
       " '_i2': 'def performOperation(*args):\\n    print(args)\\n\\nperformOperation(1,2,3)',\n",
       " 'performOperation': <function __main__.performOperation(num1, num2, operation='sum')>,\n",
       " '_i3': 'performOperation(1,2,3, operation = \"sum\")',\n",
       " '_i4': 'def performOperation(*args):\\n    print(args)\\n\\nperformOperation(1,2,3,4)',\n",
       " '_i5': 'def PerformOperation(*args,**kwargs):\\n    print(args)\\n    print(kwargs)\\n\\nperformOperation(1,2,3,4,5,7,8, operation = \"sum\")',\n",
       " '_i6': 'def PerformOperation(*args,**kwargs):\\n    print(args)\\n    print(kwargs)\\n\\nperformOperation(1,2,3, operation = \"sum\")',\n",
       " '_i7': \"def PerformOperation(*args,**kwargs):\\n    print(args)\\n    print(kwargs)\\n\\nperformOperation(1,2,3, operation = 'sum')\",\n",
       " '_i8': \"def PerformOperation(*args,**kwargs):\\n    print(args)\\n    print(kwargs)\\n\\nPerformOperation(1,2,3, operation = 'sum')\",\n",
       " '_i9': \"def PerformOperation(*args, operation='sum'):\\n    if operation == 'sum':\\n        return sum(args)\\n    if operation == 'multiply':\\n        return math.prod(args)\\n    \\n    PerformOperation(1,2,3,6,7,8, operation='sum')\",\n",
       " '_i10': \"def PerformOperation(*args, operation='sum'):\\n    if operation == 'sum':\\n        return sum(args)\\n    if operation == 'multiply':\\n        return math.prod(args)\\n    \\n    PerformOperation(1,2,3,6,7,8, operation='sum')\",\n",
       " '_i11': \"def PerformOperation(*args, operation='sum'):\\n    if operation == 'sum':\\n        return sum(args)\\n    if operation == 'multiply':\\n        return math.prod(args)\\n    \\nPerformOperation(1,2,3,6,7,8, operation='sum')\",\n",
       " '_11': 27,\n",
       " '_i12': \"def PerformOperation(*args, operation='sum'):\\n    if operation == 'sum':\\n        return sum(args)\\n    if operation == 'multiply':\\n        return math.prod(args)\\n    \\nPerformOperation(1,2,3,6,7,8, operation='multiply')\",\n",
       " '_i13': 'import math',\n",
       " 'math': <module 'math' (built-in)>,\n",
       " '_i14': \"def PerformOperation(*args, operation='sum'):\\n    if operation == 'sum':\\n        return sum(args)\\n    if operation == 'multiply':\\n        return math.prod(args)\\n    \\nPerformOperation(1,2,3,6,7,8, operation='multiply')\",\n",
       " '_14': 2016,\n",
       " '_i15': \"def PerformOperation(*args, operation='sum'):\\n    if operation == 'sum':\\n        return sum(args)\\n    if operation == 'multiply':\\n        return math.prod(args)\\n    \\nPerformOperation(1,2,3,6,7,8, operation='sum')\",\n",
       " '_15': 27,\n",
       " '_i16': \"def performOperation(num1, num2, operation = 'sum'):\\n    print(locals())\\n\\nperformOperation(1,2,operation='multiply')\\nprint(num1)\",\n",
       " '_i17': \"def performOperation(num1, num2, operation = 'sum'):\\n    print(locals())\\n\\nperformOperation(1,2,operation='multiply')\",\n",
       " '_i18': 'globals()'}"
      ]
     },
     "execution_count": 18,
     "metadata": {},
     "output_type": "execute_result"
    }
   ],
   "source": [
    "globals()"
   ]
  },
  {
   "cell_type": "code",
   "execution_count": 1,
   "metadata": {},
   "outputs": [],
   "source": [
    "#Variables as functions\n",
    "\n",
    "x = 6\n",
    "\n",
    "def x():\n",
    "    return 6"
   ]
  },
  {
   "cell_type": "code",
   "execution_count": 3,
   "metadata": {},
   "outputs": [
    {
     "name": "stdout",
     "output_type": "stream",
     "text": [
      "17\n"
     ]
    }
   ],
   "source": [
    "def Test(func):\n",
    "    print(func(5) + 2)\n",
    "\n",
    "Test(lambda x: x * 3)"
   ]
  },
  {
   "cell_type": "code",
   "execution_count": 6,
   "metadata": {},
   "outputs": [
    {
     "name": "stdout",
     "output_type": "stream",
     "text": [
      "The sum of 5 and 7 is 12\n"
     ]
    }
   ],
   "source": [
    "def function1(num1, num2):\n",
    "    sum =  num1 + num2\n",
    "    print(f'The sum of {num1} and {num2} is {sum}')\n",
    "\n",
    "def main():\n",
    "    function1(5,7)\n",
    "\n",
    "if __name__ == '__main__':\n",
    "    main()"
   ]
  },
  {
   "cell_type": "code",
   "execution_count": 1,
   "metadata": {},
   "outputs": [],
   "source": [
    "x = 5"
   ]
  },
  {
   "cell_type": "code",
   "execution_count": 2,
   "metadata": {},
   "outputs": [],
   "source": [
    "def x():\n",
    "    return 6"
   ]
  },
  {
   "cell_type": "code",
   "execution_count": 3,
   "metadata": {},
   "outputs": [
    {
     "data": {
      "text/plain": [
       "6"
      ]
     },
     "execution_count": 3,
     "metadata": {},
     "output_type": "execute_result"
    }
   ],
   "source": [
    "x()"
   ]
  },
  {
   "cell_type": "code",
   "execution_count": 14,
   "metadata": {},
   "outputs": [],
   "source": [
    "import random\n",
    "import time\n",
    "\n",
    "serviceAreUp = True\n",
    "\n",
    "def getData50():\n",
    "    if serviceAreUp and random.random() < 0.5:\n",
    "        return 'You got the data! That only happens 50% if the time!'\n",
    "\n",
    "def getData25():\n",
    "\n",
    "    if serviceAreUp and random.random() < 0.25:\n",
    "        return 'You got the data! That only happens 25% if the time!'\n",
    "    \n",
    "def getData10():\n",
    "    \n",
    "    if serviceAreUp and random.random() < 0.10:\n",
    "        return 'You got the data! That only happens 10% if the time!'\n",
    "    \n"
   ]
  },
  {
   "cell_type": "code",
   "execution_count": 15,
   "metadata": {},
   "outputs": [],
   "source": [
    "def getWithRetry(dataFunct):\n",
    "    maxTries = 20\n",
    "\n",
    "    for i in range(0,maxTries):\n",
    "        response = dataFunct()\n",
    "        if response:\n",
    "            return response"
   ]
  },
  {
   "cell_type": "code",
   "execution_count": 18,
   "metadata": {},
   "outputs": [
    {
     "data": {
      "text/plain": [
       "'You got the data! That only happens 50% if the time!'"
      ]
     },
     "execution_count": 18,
     "metadata": {},
     "output_type": "execute_result"
    }
   ],
   "source": [
    "getWithRetry(getData50)"
   ]
  },
  {
   "cell_type": "code",
   "execution_count": null,
   "metadata": {},
   "outputs": [],
   "source": [
    "#Error Handling "
   ]
  },
  {
   "cell_type": "code",
   "execution_count": 22,
   "metadata": {},
   "outputs": [
    {
     "name": "stdout",
     "output_type": "stream",
     "text": [
      "<class 'ZeroDivisionError'>\n"
     ]
    }
   ],
   "source": [
    "\n",
    "try:\n",
    "    1/0\n",
    "except Exception as e:\n",
    "    print(type(e))\n"
   ]
  },
  {
   "cell_type": "code",
   "execution_count": 27,
   "metadata": {},
   "outputs": [],
   "source": [
    " #Decorator Function\n",
    "\n",
    "def handleException(func):\n",
    "\n",
    "    def container(*args):\n",
    "        try:\n",
    "            func(*args)\n",
    "        except TypeError:\n",
    "            print('There was a type error.')\n",
    "        except ZeroDivisionError:\n",
    "            print('There was a type error.')\n",
    "        except Exception:\n",
    "            print('There was some error.')\n",
    "\n",
    "    return container\n",
    "\n",
    "            \n",
    "\n"
   ]
  },
  {
   "cell_type": "code",
   "execution_count": 28,
   "metadata": {},
   "outputs": [
    {
     "name": "stdout",
     "output_type": "stream",
     "text": [
      "There was a type error.\n"
     ]
    }
   ],
   "source": [
    "@handleException #Decorator\n",
    "def CauseError():\n",
    "    return 12/0\n",
    "\n",
    "CauseError()"
   ]
  },
  {
   "cell_type": "code",
   "execution_count": null,
   "metadata": {},
   "outputs": [],
   "source": []
  },
  {
   "cell_type": "code",
   "execution_count": null,
   "metadata": {},
   "outputs": [],
   "source": []
  },
  {
   "cell_type": "code",
   "execution_count": null,
   "metadata": {},
   "outputs": [],
   "source": []
  },
  {
   "cell_type": "code",
   "execution_count": null,
   "metadata": {},
   "outputs": [],
   "source": []
  }
 ],
 "metadata": {
  "kernelspec": {
   "display_name": "Python 3",
   "language": "python",
   "name": "python3"
  },
  "language_info": {
   "codemirror_mode": {
    "name": "ipython",
    "version": 3
   },
   "file_extension": ".py",
   "mimetype": "text/x-python",
   "name": "python",
   "nbconvert_exporter": "python",
   "pygments_lexer": "ipython3",
   "version": "3.12.2"
  }
 },
 "nbformat": 4,
 "nbformat_minor": 2
}
