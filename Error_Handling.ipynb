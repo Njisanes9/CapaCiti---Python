{
 "cells": [
  {
   "cell_type": "code",
   "execution_count": null,
   "metadata": {},
   "outputs": [],
   "source": [
    "# ERROR HANDLING   "
   ]
  },
  {
   "cell_type": "code",
   "execution_count": 1,
   "metadata": {},
   "outputs": [
    {
     "ename": "ZeroDivisionError",
     "evalue": "division by zero",
     "output_type": "error",
     "traceback": [
      "\u001b[1;31m---------------------------------------------------------------------------\u001b[0m",
      "\u001b[1;31mZeroDivisionError\u001b[0m                         Traceback (most recent call last)",
      "Cell \u001b[1;32mIn[1], line 5\u001b[0m\n\u001b[0;32m      1\u001b[0m \u001b[38;5;28;01mdef\u001b[39;00m \u001b[38;5;21mCauseError\u001b[39m():\n\u001b[0;32m      3\u001b[0m     \u001b[38;5;28;01mreturn\u001b[39;00m \u001b[38;5;241m10\u001b[39m\u001b[38;5;241m/\u001b[39m\u001b[38;5;241m0\u001b[39m\n\u001b[1;32m----> 5\u001b[0m \u001b[43mCauseError\u001b[49m\u001b[43m(\u001b[49m\u001b[43m)\u001b[49m\n",
      "Cell \u001b[1;32mIn[1], line 3\u001b[0m, in \u001b[0;36mCauseError\u001b[1;34m()\u001b[0m\n\u001b[0;32m      1\u001b[0m \u001b[38;5;28;01mdef\u001b[39;00m \u001b[38;5;21mCauseError\u001b[39m():\n\u001b[1;32m----> 3\u001b[0m     \u001b[38;5;28;01mreturn\u001b[39;00m \u001b[38;5;241;43m10\u001b[39;49m\u001b[38;5;241;43m/\u001b[39;49m\u001b[38;5;241;43m0\u001b[39;49m\n",
      "\u001b[1;31mZeroDivisionError\u001b[0m: division by zero"
     ]
    }
   ],
   "source": [
    "def CauseError():\n",
    "    return 10/0\n",
    "\n",
    "CauseError()\n"
   ]
  },
  {
   "cell_type": "code",
   "execution_count": null,
   "metadata": {},
   "outputs": [],
   "source": [
    "# TRY EXCEPTION"
   ]
  },
  {
   "cell_type": "code",
   "execution_count": 4,
   "metadata": {},
   "outputs": [
    {
     "name": "stdout",
     "output_type": "stream",
     "text": [
      "division by zero\n"
     ]
    }
   ],
   "source": [
    "def CauseError():\n",
    "    try:\n",
    "        \n",
    "            return 1/0\n",
    "    except Exception as e:\n",
    "        print(e)\n",
    "\n",
    "CauseError()"
   ]
  },
  {
   "cell_type": "code",
   "execution_count": null,
   "metadata": {},
   "outputs": [],
   "source": [
    "# TRY EXCEPTION & FINALLY"
   ]
  },
  {
   "cell_type": "code",
   "execution_count": 7,
   "metadata": {},
   "outputs": [
    {
     "name": "stdout",
     "output_type": "stream",
     "text": [
      "division by zero\n",
      "Finally always executes.\n"
     ]
    }
   ],
   "source": [
    "def CauseError():\n",
    "    try:\n",
    "        10/0\n",
    "    except Exception as e:\n",
    "        print(e)\n",
    "    finally:\n",
    "        print('Finally always executes.')\n",
    "\n",
    "\n",
    "CauseError()"
   ]
  },
  {
   "cell_type": "code",
   "execution_count": 9,
   "metadata": {},
   "outputs": [
    {
     "name": "stdout",
     "output_type": "stream",
     "text": [
      "There was an error.\n",
      "Function took 0.5017209053039551 to execute.\n"
     ]
    }
   ],
   "source": [
    "import time\n",
    "\n",
    "def CauseError():\n",
    "    start = time.time()\n",
    "    try:\n",
    "          time.sleep(0.5)\n",
    "          10/0\n",
    "    except Exception:\n",
    "         print('There was an error.')\n",
    "         print(f'Function took {time.time() - start} to execute.')\n",
    "\n",
    "CauseError()\n",
    "         \n",
    "\n"
   ]
  },
  {
   "cell_type": "code",
   "execution_count": 11,
   "metadata": {},
   "outputs": [
    {
     "name": "stdout",
     "output_type": "stream",
     "text": [
      "There was a type errror.\n"
     ]
    }
   ],
   "source": [
    "# CATCHING EXCEPTIONS BY TYPE\n",
    "\n",
    "def CauseError():\n",
    "    try:\n",
    "        return 1 + 'a'\n",
    "    except TypeError:\n",
    "        print('There was a type errror.')\n",
    "    except ZeroDivisionError:\n",
    "        print('There was a zero division error.')\n",
    "    except Exception:\n",
    "        print('There was an error.')\n",
    "\n",
    "CauseError()\n"
   ]
  },
  {
   "cell_type": "code",
   "execution_count": null,
   "metadata": {},
   "outputs": [],
   "source": [
    "# USING CUSTOM DECORATOR"
   ]
  },
  {
   "cell_type": "code",
   "execution_count": 14,
   "metadata": {},
   "outputs": [
    {
     "name": "stdout",
     "output_type": "stream",
     "text": [
      "There was a zero division error.\n"
     ]
    }
   ],
   "source": [
    "def handleException(func):\n",
    "\n",
    "    def wrapper(*args):\n",
    "        try:\n",
    "            func(*args)\n",
    "        except TypeError:\n",
    "            print('There was a type errror.')\n",
    "        except ZeroDivisionError:\n",
    "            print('There was a zero division error.')\n",
    "        except Exception:\n",
    "            print('There was an error.')\n",
    "    \n",
    "    return wrapper\n",
    "\n",
    "@handleException\n",
    "def CauseError():\n",
    "    return 1/0\n",
    "\n",
    "CauseError()\n"
   ]
  },
  {
   "cell_type": "code",
   "execution_count": 16,
   "metadata": {},
   "outputs": [
    {
     "name": "stdout",
     "output_type": "stream",
     "text": [
      "2\n"
     ]
    }
   ],
   "source": [
    "# RAISING EXCEPTION\n",
    "\n",
    "@handleException\n",
    "\n",
    "def raiseError(n):\n",
    "    if n == 0:\n",
    "        raise Exception()\n",
    "    print(n)\n",
    "\n",
    "raiseError(2)"
   ]
  },
  {
   "cell_type": "code",
   "execution_count": null,
   "metadata": {},
   "outputs": [],
   "source": []
  },
  {
   "cell_type": "code",
   "execution_count": null,
   "metadata": {},
   "outputs": [],
   "source": []
  },
  {
   "cell_type": "code",
   "execution_count": null,
   "metadata": {},
   "outputs": [],
   "source": []
  },
  {
   "cell_type": "code",
   "execution_count": null,
   "metadata": {},
   "outputs": [],
   "source": []
  }
 ],
 "metadata": {
  "kernelspec": {
   "display_name": "Python 3",
   "language": "python",
   "name": "python3"
  },
  "language_info": {
   "codemirror_mode": {
    "name": "ipython",
    "version": 3
   },
   "file_extension": ".py",
   "mimetype": "text/x-python",
   "name": "python",
   "nbconvert_exporter": "python",
   "pygments_lexer": "ipython3",
   "version": "3.12.2"
  }
 },
 "nbformat": 4,
 "nbformat_minor": 2
}
