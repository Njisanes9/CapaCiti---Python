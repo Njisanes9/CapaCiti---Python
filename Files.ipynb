{
 "cells": [
  {
   "cell_type": "code",
   "execution_count": 4,
   "metadata": {},
   "outputs": [
    {
     "name": "stdout",
     "output_type": "stream",
     "text": [
      "Cannot pasrse JSON\n"
     ]
    }
   ],
   "source": [
    "import json\n",
    "import tkinter\n",
    "\n",
    "jsonString ='{\"a\":\"Animal\", \"b\" : \"Baby\", \"c\" : \"Carrot\", \"d\" : \"Dreaming\", }'\n",
    "\n",
    "try:\n",
    "    json.loads(jsonString)\n",
    "except Exception :\n",
    "    print('Cannot pasrse JSON')"
   ]
  }
 ],
 "metadata": {
  "kernelspec": {
   "display_name": "Python 3",
   "language": "python",
   "name": "python3"
  },
  "language_info": {
   "codemirror_mode": {
    "name": "ipython",
    "version": 3
   },
   "file_extension": ".py",
   "mimetype": "text/x-python",
   "name": "python",
   "nbconvert_exporter": "python",
   "pygments_lexer": "ipython3",
   "version": "3.12.2"
  }
 },
 "nbformat": 4,
 "nbformat_minor": 2
}
